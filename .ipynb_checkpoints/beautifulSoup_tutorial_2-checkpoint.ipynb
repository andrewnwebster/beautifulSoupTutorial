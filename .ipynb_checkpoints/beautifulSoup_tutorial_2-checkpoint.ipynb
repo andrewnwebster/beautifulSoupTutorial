{
 "cells": [
  {
   "cell_type": "code",
   "execution_count": 98,
   "metadata": {},
   "outputs": [],
   "source": [
    "import pandas as pd\n",
    "import requests\n",
    "from bs4 import BeautifulSoup\n",
    "import csv\n",
    "import re"
   ]
  },
  {
   "cell_type": "code",
   "execution_count": 99,
   "metadata": {},
   "outputs": [],
   "source": [
    "#https://www.dataquest.io/blog/web-scraping-tutorial-python/"
   ]
  },
  {
   "cell_type": "code",
   "execution_count": 100,
   "metadata": {},
   "outputs": [
    {
     "data": {
      "text/plain": [
       "'https://www.baseball-reference.com/players/s/'"
      ]
     },
     "execution_count": 100,
     "metadata": {},
     "output_type": "execute_result"
    }
   ],
   "source": [
    "lastNameFirstLetter='s'\n",
    "testPlayer='John Smith'\n",
    "requests_URL='https://www.baseball-reference.com/players/{0}/'.format(lastNameFirstLetter)\n",
    "requests_URL"
   ]
  },
  {
   "cell_type": "code",
   "execution_count": 101,
   "metadata": {},
   "outputs": [
    {
     "data": {
      "text/plain": [
       "200"
      ]
     },
     "execution_count": 101,
     "metadata": {},
     "output_type": "execute_result"
    }
   ],
   "source": [
    "page = requests.get(requests_URL)\n",
    "page\n",
    "page.status_code\n",
    "#page.content"
   ]
  },
  {
   "cell_type": "code",
   "execution_count": 102,
   "metadata": {},
   "outputs": [],
   "source": [
    "soup = BeautifulSoup(page.content, 'html.parser')\n",
    "#print(soup.prettify())"
   ]
  },
  {
   "cell_type": "code",
   "execution_count": 106,
   "metadata": {},
   "outputs": [
    {
     "name": "stdout",
     "output_type": "stream",
     "text": [
      "[0]  John Smith  (1873-1875) http://www.baseball-reference.com/players/s/smithjo01.shtml\n",
      "[1]  John Smith  (1882-1882) http://www.baseball-reference.com/players/s/smithjo02.shtml\n",
      "[2]  John Smith  (1931-1931) http://www.baseball-reference.com/players/s/smithjo04.shtml\n"
     ]
    }
   ],
   "source": [
    "body=soup.find(class_='section_content', id='div_players_')\n",
    "player_list_items=body.find_all('a', href=True)\n",
    "player_list_text=body.get_text()\n",
    "searchArr=player_list_text.split(\"\\n\")\n",
    "\n",
    "linkArr=[]\n",
    "playerArr=[]\n",
    "\n",
    "for link in player_list_items:\n",
    "    if testPlayer in link:\n",
    "        linkArr.extend(['http://www.baseball-reference.com'+link.get('href')])\n",
    "for item in searchArr:\n",
    "    if testPlayer in item:\n",
    "        playerArr.extend([item])\n",
    "\n",
    "for itemNum in range(len(linkArr)):\n",
    "    print('[{0}] '.format(itemNum),playerArr[itemNum],linkArr[itemNum])"
   ]
  },
  {
   "cell_type": "code",
   "execution_count": null,
   "metadata": {},
   "outputs": [],
   "source": []
  }
 ],
 "metadata": {
  "kernelspec": {
   "display_name": "Python 3",
   "language": "python",
   "name": "python3"
  },
  "language_info": {
   "codemirror_mode": {
    "name": "ipython",
    "version": 3
   },
   "file_extension": ".py",
   "mimetype": "text/x-python",
   "name": "python",
   "nbconvert_exporter": "python",
   "pygments_lexer": "ipython3",
   "version": "3.7.4"
  }
 },
 "nbformat": 4,
 "nbformat_minor": 2
}
